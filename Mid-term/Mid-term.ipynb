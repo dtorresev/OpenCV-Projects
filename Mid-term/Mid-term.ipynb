{
 "cells": [
  {
   "cell_type": "code",
   "execution_count": null,
   "metadata": {},
   "outputs": [],
   "source": [
    "import cv2\n",
    "import numpy as np\n",
    "import pathlib as Path\n",
    "import os\n",
    "import notebook_utils as utils\n",
    "\n",
    "url = \"https://www.youtube.com/watch?v=iJZcjZD0fw0\"\n",
    "filename = \"traffic.jpg\"\n",
    "directory = \"data\"\n",
    "image_file = utils.download_file(\n",
    "    url,\n",
    "    filename=filename,\n",
    "    directory=directory,\n",
    "    show_progress=False,\n",
    "    silent=True,\n",
    "    timeout=30,\n",
    ")\n",
    "assert Path(image_file).exists()\n",
    "\n",
    "img_type_flag  = 1\n",
    "img = cv2.imread(\"gatito.jpeg\",img_type_flag)\n",
    "\n",
    "if img is None:\n",
    "    print(\"Error: Could not open or find the image.\")\n",
    "else:\n",
    "    print(img)\n",
    "    cv2.imshow(\"image\",img)\n",
    "cv2.waitKey(0)\n",
    "cv2.destroyAllWindows()"
   ]
  }
 ],
 "metadata": {
  "kernelspec": {
   "display_name": "Python 3",
   "language": "python",
   "name": "python3"
  },
  "language_info": {
   "codemirror_mode": {
    "name": "ipython",
    "version": 3
   },
   "file_extension": ".py",
   "mimetype": "text/x-python",
   "name": "python",
   "nbconvert_exporter": "python",
   "pygments_lexer": "ipython3",
   "version": "3.12.5"
  }
 },
 "nbformat": 4,
 "nbformat_minor": 2
}
