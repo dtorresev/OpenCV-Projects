{
 "cells": [
  {
   "cell_type": "code",
   "execution_count": 1,
   "metadata": {},
   "outputs": [],
   "source": [
    "import cv2\n",
    "import numpy as np\n",
    "import pathlib as Path\n",
    "from matplotlib import pyplot as plt\n",
    "import argparse\n",
    "import os\n",
    "import mahotas\n",
    "\n",
    "filename = \"traffic.jpeg\"\n",
    "img_type_flag  = 1\n",
    "  \n",
    "img = cv2.imread(filename,img_type_flag)\n",
    "\n",
    "if img is None:\n",
    "    print(\"Error: Could not open or find the image.\")\n",
    "else:\n",
    "    cv2.imshow(\"image\",img)\n",
    "    cv2.waitKey(0)\n",
    "\n",
    "cv2.destroyAllWindows()  "
   ]
  },
  {
   "cell_type": "markdown",
   "metadata": {},
   "source": [
    "imread() and Color channels"
   ]
  },
  {
   "cell_type": "code",
   "execution_count": 2,
   "metadata": {},
   "outputs": [
    {
     "name": "stdout",
     "output_type": "stream",
     "text": [
      "Width: 275 Height: 183 Channels: 3\n"
     ]
    },
    {
     "data": {
      "text/plain": [
       "True"
      ]
     },
     "execution_count": 2,
     "metadata": {},
     "output_type": "execute_result"
    }
   ],
   "source": [
    "r1 = img[:,:,0]\n",
    "g1 = img[:,:,1]\n",
    "b1 = img[:,:,2]\n",
    "\n",
    "height = img.shape[0]\n",
    "width = img.shape[1]\n",
    "rgb = img.shape[2]\n",
    "\n",
    "print(f\"Width: {width} Height: {height} Channels: {rgb}\")\n",
    "cv2.imwrite(\"editedimg.jpg\",img)\n"
   ]
  },
  {
   "cell_type": "code",
   "execution_count": 3,
   "metadata": {},
   "outputs": [
    {
     "name": "stdout",
     "output_type": "stream",
     "text": [
      "Pixel at (0,0) - Red: 255 Green: 0 Blue: 0\n"
     ]
    }
   ],
   "source": [
    "img[0,0] = (0,0,255)\n",
    "\n",
    "(b,g,r) = img[0,0]\n",
    " \n",
    "print(f\"Pixel at (0,0) - Red: {r} Green: {g} Blue: {b}\")\n",
    "\n",
    "corner = img[0:100, 0:100]\n",
    "cv2.imshow(\"Corner\", corner)\n",
    "\n",
    "img[0:100,0:100] = (0,255,0)\n",
    " \n",
    "cv2.imshow(\"Updated\", img)\n",
    "cv2.waitKey(0)\n",
    "\n",
    "cv2.destroyAllWindows()  "
   ]
  },
  {
   "cell_type": "markdown",
   "metadata": {},
   "source": [
    "2 Drawing capabilities of OpenCV\n",
    "2.1 Drawing Line"
   ]
  },
  {
   "cell_type": "code",
   "execution_count": 4,
   "metadata": {},
   "outputs": [],
   "source": [
    "canvas = np.zeros((300,300,3),dtype = \"uint8\")\n",
    "img = np.zeros((512,512,3),np.uint8)\n",
    "\n",
    "cv2.line(img,(0,0),(511,511),(255,0,0),5)\n",
    "green =  (0,255,0)\n",
    "cv2.line(canvas,(0,0),(300,300),green)\n",
    "cv2.imshow(\"Canvas\",canvas)\n",
    "\n",
    "cv2.waitKey(0)\n",
    "\n",
    "red = (0,0,255)\n",
    "cv2.line(canvas,(300,0),(0,300),red)\n",
    "cv2.imshow(\"Canvas\",canvas)\n",
    "\n",
    "cv2.waitKey(0)\n",
    "cv2.destroyAllWindows()\n"
   ]
  },
  {
   "cell_type": "markdown",
   "metadata": {},
   "source": [
    "2.3 Drawing Circle"
   ]
  },
  {
   "cell_type": "code",
   "execution_count": 5,
   "metadata": {},
   "outputs": [],
   "source": [
    "cv2.circle(img,(447,63),63,red,-1)\n",
    "\n",
    "canvas = np.zeros((300,300,3),dtype = \"uint8\")\n",
    "(centerX,centerY) =  (canvas.shape[1]//2, canvas.shape[0]//2)\n",
    "white = (255,255,255)\n",
    "#xrange = canvas.shape[1]\n",
    "\n",
    "for r in range(0,175,25):\n",
    "    cv2.circle(canvas,(centerX,centerY),r,white,-1)\n",
    "\n",
    "cv2.imshow(\"Canvas\",canvas)\n",
    "\n"
   ]
  },
  {
   "cell_type": "markdown",
   "metadata": {},
   "source": [
    "Multiple Circles"
   ]
  },
  {
   "cell_type": "code",
   "execution_count": 6,
   "metadata": {},
   "outputs": [],
   "source": [
    "\n",
    "canvas = np.zeros((300,300,3),dtype = \"uint8\")\n",
    "for i in range(0,25):\n",
    "    radius = np.random.randint(5,200)\n",
    "    color = np.random.randint(0,256,(3,)).tolist()\n",
    "    pt = np.random.randint(0,300,(2,))\n",
    "    cv2.circle(canvas,tuple(pt),radius,color,-1)\n",
    "    cv2.imshow(\"Canvas\",canvas)\n",
    "\n",
    "cv2.waitKey(0)\n",
    "cv2.destroyAllWindows()"
   ]
  },
  {
   "cell_type": "markdown",
   "metadata": {},
   "source": [
    "3. Affine Transformation"
   ]
  },
  {
   "cell_type": "code",
   "execution_count": 7,
   "metadata": {},
   "outputs": [],
   "source": [
    "def translate(image,x,y):\n",
    "    image = cv2.imread(image)\n",
    "    M =  np.float32([[1,0,x],[0,1,y]])\n",
    "    shifted = cv2.warpAffine(image,M,(image.shape[1],image.shape[0]))\n",
    "    return shifted"
   ]
  },
  {
   "cell_type": "markdown",
   "metadata": {},
   "source": [
    "3.2 Rotation"
   ]
  },
  {
   "cell_type": "code",
   "execution_count": 8,
   "metadata": {},
   "outputs": [],
   "source": [
    "def rotate(image,angle, center = None, scale = 1.0):\n",
    "    image = cv2.imread(image)\n",
    "    (h,w) = image.shape[:2]\n",
    "    if center is None:\n",
    "        center = (w/2,h/2)\n",
    "    M = cv2.getRotationMatrix2D(center,angle,scale)\n",
    "    rotated = cv2.warpAffine(image,M,(w,h))\n",
    "\n",
    "    return rotated"
   ]
  },
  {
   "cell_type": "code",
   "execution_count": 9,
   "metadata": {},
   "outputs": [],
   "source": [
    "img2 = 'newkitten.jpeg'\n",
    "\n",
    "shifted = translate(img2,100,50)\n",
    "cv2.imshow(\"Shifted Down\",shifted)\n",
    "\n",
    "rotated = rotate(img2,270)\n",
    "cv2.imshow(\"Rotated\",rotated)\n",
    "\n",
    "cv2.waitKey(0)\n",
    "cv2.destroyAllWindows()"
   ]
  },
  {
   "cell_type": "code",
   "execution_count": 10,
   "metadata": {},
   "outputs": [],
   "source": [
    "def resize(image, width = None, height = None, inter = cv2.INTER_AREA): \n",
    "    image = cv2.imread(image)\n",
    "    dim = None \n",
    "    (h, w) = image.shape[:2] \n",
    "    if width is None and height is None:  \n",
    "     return image\n",
    "    if width is None: \n",
    "        r = height / float(h) \n",
    "        dim = (int(w*r), height)  \n",
    "    else: \n",
    "        r=  width / float (w) \n",
    "        dim = (width, int(h*r)) \n",
    "    resized = cv2.resize(image, dim, interpolation = inter)\n",
    "    \n",
    "    return resized "
   ]
  },
  {
   "cell_type": "code",
   "execution_count": 11,
   "metadata": {},
   "outputs": [],
   "source": [
    "resized = resize(img2, width = 100)\n",
    "cv2.imshow(\"Resized\",resized)\n",
    "cv2.waitKey(0)\n",
    "cv2.destroyAllWindows()"
   ]
  },
  {
   "cell_type": "markdown",
   "metadata": {},
   "source": [
    "3.4 Flipante"
   ]
  },
  {
   "cell_type": "code",
   "execution_count": 12,
   "metadata": {},
   "outputs": [],
   "source": [
    "kingcat = cv2.imread(\"kingcat.jpeg\")\n",
    "\n",
    "flipped = cv2.flip(kingcat,0)\n",
    "\n",
    "cv2.imshow(\"Flipped vertically\",flipped,)\n",
    "\n",
    "flipped = cv2.flip(kingcat,-1)\n",
    "cv2.imshow(\"Flipped both horizontally and vertically\", flipped)\n"
   ]
  },
  {
   "cell_type": "markdown",
   "metadata": {},
   "source": [
    "3.5 Cropping"
   ]
  },
  {
   "cell_type": "code",
   "execution_count": 13,
   "metadata": {},
   "outputs": [],
   "source": [
    "cropped = kingcat[0:250,0:100]\n",
    "\n",
    "cv2.imshow(\"Crop\",cropped)\n",
    "cv2.waitKey(0)\n",
    "cv2.destroyAllWindows()"
   ]
  },
  {
   "cell_type": "markdown",
   "metadata": {},
   "source": [
    "3.6 Aritmética"
   ]
  },
  {
   "cell_type": "code",
   "execution_count": 14,
   "metadata": {},
   "outputs": [],
   "source": [
    "M = np.ones(kingcat.shape,dtype = \"uint8\")*100\n",
    "added = cv2.add(kingcat,M)\n",
    "cv2.imshow(\"Added\", added)\n",
    "\n",
    "M = np.ones(kingcat.shape,dtype = \"uint8\")*50\n",
    "subtracted = cv2.subtract(kingcat,M)\n",
    "cv2.imshow(\"Subtracted\", subtracted)\n",
    "\n",
    "cv2.waitKey(0)\n",
    "cv2.destroyAllWindows()"
   ]
  },
  {
   "cell_type": "markdown",
   "metadata": {},
   "source": [
    "3.7 Operadores Lógicos"
   ]
  },
  {
   "cell_type": "code",
   "execution_count": 15,
   "metadata": {},
   "outputs": [],
   "source": [
    "rectangle = np.zeros((300,300),dtype = \"uint8\")\n",
    "cv2.rectangle(rectangle,(25,25),(275,275),255,-1)\n",
    "cv2.imshow(\"Rectangle\",rectangle)\n",
    "\n",
    "circle = np.zeros((300,300),dtype = \"uint8\")\n",
    "cv2.circle(circle,(150,150),150,255,-1)\n",
    "cv2.imshow(\"Circle\",circle)\n",
    "\n",
    "andgate = cv2.bitwise_and(rectangle,circle)\n",
    "cv2.imshow(\"AND\",andgate)\n",
    "\n",
    "orgate = cv2.bitwise_or(rectangle,circle)\n",
    "cv2.imshow(\"OR\",orgate)\n",
    "\n",
    "xorgate = cv2.bitwise_xor(rectangle,circle)\n",
    "cv2.imshow(\"XOR\",xorgate)\n",
    "\n",
    "inv = cv2.imread(\"tobeinverted.jpeg\")\n",
    "cv2.imshow(\"Original\",inv)\n",
    "\n",
    "notgate = cv2.bitwise_not(inv)\n",
    "cv2.imshow(\"NOT\", notgate)\n",
    "cv2.waitKey(0)\n",
    "cv2.destroyAllWindows()"
   ]
  },
  {
   "cell_type": "code",
   "execution_count": 16,
   "metadata": {},
   "outputs": [],
   "source": [
    "stadium = cv2.imread(\"estadio.jpg\")\n",
    "mask  = np.zeros(stadium.shape[:2],dtype = \"uint8\")\n",
    "(centerX,centerY) =  (mask.shape[1]//2, mask.shape[0]//2)\n",
    "cv2.circle(mask,(centerX,centerY),100,255,-1)\n",
    "masked = cv2.bitwise_and(stadium,stadium, mask=mask)\n",
    "cv2.imshow(\"Original\",stadium)\n",
    "cv2.imshow(\"Mask\",mask)\n",
    "cv2.imshow(\"Mask applied to image\", masked)\n",
    "cv2.waitKey(0)\n",
    "cv2.destroyAllWindows()"
   ]
  },
  {
   "cell_type": "markdown",
   "metadata": {},
   "source": [
    "3.8 Splitting and Merging"
   ]
  },
  {
   "cell_type": "code",
   "execution_count": 17,
   "metadata": {},
   "outputs": [],
   "source": [
    "(B,G,R)= cv2.split(kingcat)\n",
    "\n",
    "cv2.imshow(\"Red\",R)\n",
    "cv2.imshow(\"Green\",G)\n",
    "cv2.imshow(\"Blue\",B)\n",
    "\n",
    "merged = cv2.merge([B, G ,R])\n",
    "cv2.imshow(\"Merged\",merged)\n",
    "\n",
    "cv2.waitKey(0)\n",
    "zeros = np.zeros(kingcat.shape[:2], dtype = \"uint8\")\n",
    "cv2.imshow(\"Red\",cv2.merge([zeros,zeros,R]))\n",
    "cv2.imshow(\"Green\",cv2.merge([zeros,G,zeros]))\n",
    "cv2.imshow(\"Blue\",cv2.merge([B,zeros,zeros]))\n",
    "cv2.waitKey(0)\n",
    "cv2.destroyAllWindows()"
   ]
  },
  {
   "cell_type": "markdown",
   "metadata": {},
   "source": [
    "4. Histograms"
   ]
  },
  {
   "cell_type": "code",
   "execution_count": 18,
   "metadata": {},
   "outputs": [
    {
     "data": {
      "image/png": "[encoded data removed]",
      "text/plain": [
       "<Figure size 640x480 with 1 Axes>"
      ]
     },
     "metadata": {},
     "output_type": "display_data"
    },
    {
     "data": {
      "image/png": "[encoded data removed]",
      "text/plain": [
       "<Figure size 640x480 with 1 Axes>"
      ]
     },
     "metadata": {},
     "output_type": "display_data"
    }
   ],
   "source": [
    "\n",
    "pavorreal = cv2.imread(\"pavorreal.jpeg\")\n",
    "g_pavorreal = cv2.cvtColor(pavorreal,cv2.COLOR_BGR2GRAY)\n",
    "cv2.imshow(\"Original\",pavorreal)\n",
    "\n",
    "hist = cv2.calcHist([g_pavorreal],[0],None,[256],[0,256])\n",
    "plt.figure()\n",
    "plt.title(\"Grayscale Histogram\")\n",
    "plt.xlabel(\"Bins\")\n",
    "plt.ylabel(\"No of pixels\")\n",
    "plt.plot(hist)\n",
    "plt.xlim([0,256])\n",
    "plt.show()\n",
    "cv2.waitKey(0)\n",
    "\n",
    "chnls = cv2.split(pavorreal)\n",
    "colors = (\"b\",\"g\",\"r\")\n",
    "plt.figure()\n",
    "plt.title(\"'Flattened' Color Histogram\")\n",
    "plt.xlabel(\"Bins\")\n",
    "plt.ylabel(\"No of pixels\")\n",
    "\n",
    "for (chan,color) in zip(chnls,colors):\n",
    "    hist = cv2.calcHist([chan],[0],None,[256],[0,256])\n",
    "    plt.plot(hist,color = color)\n",
    "    plt.xlim([0,256])\n",
    "\n",
    "cv2.waitKey(0)\n",
    "cv2.destroyAllWindows()\n"
   ]
  },
  {
   "cell_type": "markdown",
   "metadata": {},
   "source": [
    "5 Blurred"
   ]
  },
  {
   "cell_type": "code",
   "execution_count": 19,
   "metadata": {},
   "outputs": [],
   "source": [
    "blurred = np.hstack([cv2.blur(pavorreal,(3,3)),\n",
    "                     cv2.blur(pavorreal,(5,5)),\n",
    "                     cv2.blur(pavorreal,(7,7))])\n",
    "\n",
    "blurred_g = np.hstack([cv2.GaussianBlur(pavorreal,(3,3),0),\n",
    "                     cv2.GaussianBlur(pavorreal,(5,5),0),\n",
    "                     cv2.GaussianBlur(pavorreal,(7,7),0)])\n",
    "\n",
    "\n",
    "blurred_m = np.hstack([cv2.medianBlur(pavorreal,3),\n",
    "                     cv2.medianBlur(pavorreal,5),\n",
    "                     cv2.medianBlur(pavorreal,7)])\n",
    "\n",
    "blurred_bi = np.hstack([cv2.bilateralFilter(pavorreal,5,21,21),\n",
    "                     cv2.bilateralFilter(pavorreal,7,31,31),\n",
    "                     cv2.bilateralFilter(pavorreal,9,41,41)])\n",
    "\n",
    "cv2.imshow(\"Averaged\",blurred)\n",
    "cv2.imshow(\"Gaussian\",blurred_g)\n",
    "cv2.imshow(\"Median\",blurred_m)\n",
    "cv2.imshow(\"Bilateral\",blurred_bi)\n",
    "cv2.waitKey(0)\n",
    "cv2.destroyAllWindows()"
   ]
  },
  {
   "cell_type": "markdown",
   "metadata": {},
   "source": [
    "6 Thresholding"
   ]
  },
  {
   "cell_type": "code",
   "execution_count": 20,
   "metadata": {},
   "outputs": [],
   "source": [
    "beach = cv2.imread(\"playa.jpeg\")\n",
    "\n",
    "if beach is None: print(\"Error image\")\n",
    "else:\n",
    "    beach = cv2.cvtColor(beach,cv2.COLOR_BGR2GRAY) \n",
    "    blurred = cv2.GaussianBlur(beach,(5,5),0)\n",
    "    cv2.imshow(\"Image\",beach)\n",
    "    (T,thresh) = cv2.threshold(blurred,155,255,cv2.THRESH_BINARY)\n",
    "    cv2.imshow(\"Threshold Binary\",thresh)\n",
    "    (T,threshInv) = cv2.threshold(blurred,155,255,cv2.THRESH_BINARY_INV)\n",
    "    cv2.imshow(\"Threshold Binary Inverse\", threshInv)\n",
    "    cv2.imshow(\"Coins\",cv2.bitwise_and(beach,beach,mask=threshInv))\n",
    "    cv2.waitKey(0)\n",
    "    cv2.destroyAllWindows()"
   ]
  },
  {
   "cell_type": "code",
   "execution_count": 21,
   "metadata": {},
   "outputs": [],
   "source": [
    "#6.1 Adaptive Thresholding\n",
    "image = cv2.imread(\"plane.jpeg\")\n",
    "\n",
    "if image is None:\n",
    "    print(\"No such image path\")\n",
    "else:\n",
    "    gray = cv2.cvtColor(image,cv2.COLOR_BGR2GRAY)\n",
    "    blurred = cv2.GaussianBlur(gray,(5,5),0)\n",
    "    cv2.imshow(\"Beach\",gray)\n",
    "\n",
    "    thresh = cv2.adaptiveThreshold(blurred,255,cv2.ADAPTIVE_THRESH_MEAN_C, cv2.THRESH_BINARY_INV,11,4)\n",
    "    cv2.imshow(\"Mean Thresh\",thresh)\n",
    "\n",
    "    thresh = cv2.adaptiveThreshold(blurred,255,cv2.ADAPTIVE_THRESH_GAUSSIAN_C, cv2.THRESH_BINARY_INV,15,3)\n",
    "    cv2.imshow(\"Gaussian Thresh\", thresh)\n",
    "\n",
    "cv2.waitKey(0)\n",
    "cv2.destroyAllWindows()"
   ]
  },
  {
   "cell_type": "code",
   "execution_count": 22,
   "metadata": {},
   "outputs": [
    {
     "name": "stdout",
     "output_type": "stream",
     "text": [
      "Otsu's threshold: 122\n",
      "Riddler-Calvard: 122.70285969232623\n"
     ]
    }
   ],
   "source": [
    "image = cv2.imread(\"plane.jpeg\")\n",
    "if image is None:\n",
    "    print(\"No such path\")\n",
    "\n",
    "else:\n",
    "    gray = cv2.cvtColor(image,cv2.COLOR_BGR2GRAY)\n",
    "    blurred = cv2.GaussianBlur(gray,(5,5),0)\n",
    "    cv2.imshow(\"Image\",image)\n",
    "\n",
    "    T = mahotas.thresholding.otsu(blurred)\n",
    "    print(f\"Otsu's threshold: {T}\")\n",
    "\n",
    "    thresh = image.copy()\n",
    "    thresh[thresh>T] = 255\n",
    "    thresh[thresh < 255] = 0\n",
    "    thresh = cv2.bitwise_not(thresh)\n",
    "    cv2.imshow(\"Otsu\",thresh)\n",
    "\n",
    "    T = mahotas.thresholding.rc(blurred)\n",
    "    print(f\"Riddler-Calvard: {T}\")\n",
    "    thresh = image.copy()\n",
    "    thresh[thresh>T] =255\n",
    "    thresh[thresh<255]=0\n",
    "    thresh = cv2.bitwise_not(thresh)\n",
    "    cv2.imshow(\"Riddler-Calvard\",thresh)\n",
    "    cv2.waitKey(0)\n",
    "\n",
    "cv2.destroyAllWindows()\n"
   ]
  },
  {
   "cell_type": "markdown",
   "metadata": {},
   "source": [
    "7. Gradients and Edge Detection"
   ]
  },
  {
   "cell_type": "code",
   "execution_count": 23,
   "metadata": {},
   "outputs": [],
   "source": [
    "#7.1 Laplacian\n",
    "image = cv2.imread(\"venado.jpeg\")\n",
    "\n",
    "if image is None:\n",
    "    print(\"No existe la imagen\")\n",
    "\n",
    "else:\n",
    "    image = cv2.cvtColor(image,cv2.COLOR_BGR2GRAY)\n",
    "    cv2.imshow(\"Original\",image)\n",
    "    lap = cv2.Laplacian(image,cv2.CV_64F)\n",
    "    lap = np.uint8(np.absolute(lap))\n",
    "    cv2.imshow(\"Laplacian\",lap)\n",
    "\n",
    "    sobelX = cv2.Sobel(image,cv2.CV_64F,1,0)\n",
    "    sobelY = cv2.Sobel(image,cv2.CV_64F,0,1)\n",
    "\n",
    "    sobelX = np.uint8(np.absolute(sobelX))\n",
    "    sobelY = np.uint8(np.absolute(sobelY))\n",
    "\n",
    "    sobelCombined = cv2.bitwise_or(sobelX,sobelY)\n",
    "\n",
    "    cv2.imshow(\"SobelX:\",sobelX)\n",
    "    cv2.imshow(\"SobelY:\",sobelY)\n",
    "    cv2.imshow(\"Sobel combined:\",sobelCombined)\n",
    "\n",
    "    cv2.waitKey(0)\n",
    "cv2.destroyAllWindows()"
   ]
  },
  {
   "cell_type": "code",
   "execution_count": 26,
   "metadata": {},
   "outputs": [],
   "source": [
    "#7.2 Canny Edge\n",
    "image = cv2.imread(\"venado.jpeg\")\n",
    "image = cv2.cvtColor(image,cv2.COLOR_BGR2GRAY)\n",
    "cv2.imshow(\"Blurred\",image)\n",
    "\n",
    "canny = cv2.Canny(image,30,150)\n",
    "cv2.imshow(\"Canny\",canny)\n",
    "cv2.waitKey(0)\n",
    "cv2.destroyAllWindows()"
   ]
  },
  {
   "cell_type": "code",
   "execution_count": 25,
   "metadata": {},
   "outputs": [
    {
     "name": "stdout",
     "output_type": "stream",
     "text": [
      "I count 8 coins\n",
      "Coin 1\n",
      "Coin 2\n",
      "Coin 3\n",
      "Coin 4\n",
      "Coin 5\n",
      "Coin 6\n",
      "Coin 7\n",
      "Coin 8\n"
     ]
    }
   ],
   "source": [
    "#7.3 Contours\n",
    "\n",
    "image = cv2.imread(\"coins.jpeg\")\n",
    "gray = cv2.cvtColor(image,cv2.COLOR_BGR2GRAY)\n",
    "blurred = cv2.GaussianBlur(gray,(11,11),150)\n",
    "cv2.imshow(\"image\",image)\n",
    "edged = cv2.Canny(blurred,30,150)\n",
    "cv2.imshow(\"Edges\",edged)\n",
    "\n",
    "(cnts,_)  = cv2.findContours(edged.copy(),cv2.RETR_EXTERNAL,cv2.CHAIN_APPROX_SIMPLE)\n",
    "print(f\"I count {len(cnts)} coins\")\n",
    "\n",
    "coins = image.copy()\n",
    "cv2.drawContours(coins,cnts,-1,(0,255,0),2)\n",
    "cv2.imshow(\"Coins\",coins)\n",
    "\n",
    "for (i,c) in enumerate(cnts):\n",
    "    (x,y,w,h) = cv2.boundingRect(c)\n",
    "    print(f\"Coin {i+1}\")\n",
    "    coin = image[y:y +h, x:x+w]\n",
    "    cv2.imshow(\"Coin\",coin)\n",
    "\n",
    "    mask = np.zeros(image.shape[:2],dtype= \"uint8\")\n",
    "    ((centerX,centerY),radius)=cv2.minEnclosingCircle(c)\n",
    "    cv2.circle(mask,(int(centerX),int(centerY)),int(radius),255,-1 )\n",
    "    mask = mask[y:y+h,x:x+w]\n",
    "    cv2.imshow(\"Masked Coin\", cv2.bitwise_and(coin,coin,mask = mask))\n",
    "\n",
    "cv2.waitKey(0)\n",
    "cv2.destroyAllWindows()"
   ]
  }
 ],
 "metadata": {
  "kernelspec": {
   "display_name": "Python 3",
   "language": "python",
   "name": "python3"
  },
  "language_info": {
   "codemirror_mode": {
    "name": "ipython",
    "version": 3
   },
   "file_extension": ".py",
   "mimetype": "text/x-python",
   "name": "python",
   "nbconvert_exporter": "python",
   "pygments_lexer": "ipython3",
   "version": "3.12.5"
  }
 },
 "nbformat": 4,
 "nbformat_minor": 2
}
